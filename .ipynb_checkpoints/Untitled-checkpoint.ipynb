{
 "cells": [
  {
   "cell_type": "code",
   "execution_count": 18,
   "metadata": {},
   "outputs": [],
   "source": [
    "import pandas as pd\n",
    "import skvideo.io  \n",
    "import matplotlib.pyplot as plt\n",
    "import numpy as np\n",
    "import cv2\n",
    "from sklearn.decomposition import PCA"
   ]
  },
  {
   "cell_type": "code",
   "execution_count": 3,
   "metadata": {},
   "outputs": [
    {
     "name": "stdout",
     "output_type": "stream",
     "text": [
      "Model: \"vgg16\"\n",
      "_________________________________________________________________\n",
      "Layer (type)                 Output Shape              Param #   \n",
      "=================================================================\n",
      "input_1 (InputLayer)         [(None, 224, 224, 3)]     0         \n",
      "_________________________________________________________________\n",
      "block1_conv1 (Conv2D)        (None, 224, 224, 64)      1792      \n",
      "_________________________________________________________________\n",
      "block1_conv2 (Conv2D)        (None, 224, 224, 64)      36928     \n",
      "_________________________________________________________________\n",
      "block1_pool (MaxPooling2D)   (None, 112, 112, 64)      0         \n",
      "_________________________________________________________________\n",
      "block2_conv1 (Conv2D)        (None, 112, 112, 128)     73856     \n",
      "_________________________________________________________________\n",
      "block2_conv2 (Conv2D)        (None, 112, 112, 128)     147584    \n",
      "_________________________________________________________________\n",
      "block2_pool (MaxPooling2D)   (None, 56, 56, 128)       0         \n",
      "_________________________________________________________________\n",
      "block3_conv1 (Conv2D)        (None, 56, 56, 256)       295168    \n",
      "_________________________________________________________________\n",
      "block3_conv2 (Conv2D)        (None, 56, 56, 256)       590080    \n",
      "_________________________________________________________________\n",
      "block3_conv3 (Conv2D)        (None, 56, 56, 256)       590080    \n",
      "_________________________________________________________________\n",
      "block3_pool (MaxPooling2D)   (None, 28, 28, 256)       0         \n",
      "_________________________________________________________________\n",
      "block4_conv1 (Conv2D)        (None, 28, 28, 512)       1180160   \n",
      "_________________________________________________________________\n",
      "block4_conv2 (Conv2D)        (None, 28, 28, 512)       2359808   \n",
      "_________________________________________________________________\n",
      "block4_conv3 (Conv2D)        (None, 28, 28, 512)       2359808   \n",
      "_________________________________________________________________\n",
      "block4_pool (MaxPooling2D)   (None, 14, 14, 512)       0         \n",
      "_________________________________________________________________\n",
      "block5_conv1 (Conv2D)        (None, 14, 14, 512)       2359808   \n",
      "_________________________________________________________________\n",
      "block5_conv2 (Conv2D)        (None, 14, 14, 512)       2359808   \n",
      "_________________________________________________________________\n",
      "block5_conv3 (Conv2D)        (None, 14, 14, 512)       2359808   \n",
      "_________________________________________________________________\n",
      "block5_pool (MaxPooling2D)   (None, 7, 7, 512)         0         \n",
      "_________________________________________________________________\n",
      "flatten (Flatten)            (None, 25088)             0         \n",
      "_________________________________________________________________\n",
      "fc1 (Dense)                  (None, 4096)              102764544 \n",
      "_________________________________________________________________\n",
      "fc2 (Dense)                  (None, 4096)              16781312  \n",
      "_________________________________________________________________\n",
      "predictions (Dense)          (None, 1000)              4097000   \n",
      "=================================================================\n",
      "Total params: 138,357,544\n",
      "Trainable params: 138,357,544\n",
      "Non-trainable params: 0\n",
      "_________________________________________________________________\n",
      "None\n"
     ]
    }
   ],
   "source": [
    "\n",
    "from keras.preprocessing import image\n",
    "from keras.models import Model\n",
    "from keras.applications.vgg16 import VGG16\n",
    "from keras.applications.vgg16 import preprocess_input\n",
    "from PIL import Image as pil_image\n",
    "\n",
    "model_vgg16_conv = VGG16(weights='imagenet', include_top=True)\n",
    "print(model_vgg16_conv.summary())"
   ]
  },
  {
   "cell_type": "code",
   "execution_count": null,
   "metadata": {},
   "outputs": [],
   "source": []
  },
  {
   "cell_type": "code",
   "execution_count": 4,
   "metadata": {},
   "outputs": [],
   "source": [
    "videodata = skvideo.io.vread(\"shotgun.mp4\")  \n"
   ]
  },
  {
   "cell_type": "code",
   "execution_count": 5,
   "metadata": {},
   "outputs": [
    {
     "data": {
      "text/plain": [
       "(4875, 360, 640, 3)"
      ]
     },
     "execution_count": 5,
     "metadata": {},
     "output_type": "execute_result"
    }
   ],
   "source": [
    "videodata.shape"
   ]
  },
  {
   "cell_type": "code",
   "execution_count": 6,
   "metadata": {},
   "outputs": [],
   "source": [
    "df = pd.read_csv(\"data.csv\")"
   ]
  },
  {
   "cell_type": "code",
   "execution_count": 7,
   "metadata": {},
   "outputs": [],
   "source": [
    "left= 133.51\n",
    "height = 110.23\n",
    "top = 20.4\n",
    "width = 90.18\n",
    "def extract_image(frame,left,top,width,height):\n",
    "    cutshot = videodata[int(frame),int(top*400/240):int((top+height)*400/240),int(left*720/320):int((left+width)*720/320),:]\n",
    "    w,h = cutshot.shape[0],cutshot.shape[1]\n",
    "    if w>h:\n",
    "        return np.pad(cutshot,((0,0),(0,w-h),(0,0)))\n",
    "    else: \n",
    "        return np.pad(cutshot,((0,h-w),(0,0),(0,0)))\n",
    "    "
   ]
  },
  {
   "cell_type": "code",
   "execution_count": 8,
   "metadata": {},
   "outputs": [
    {
     "data": {
      "text/html": [
       "<div>\n",
       "<style scoped>\n",
       "    .dataframe tbody tr th:only-of-type {\n",
       "        vertical-align: middle;\n",
       "    }\n",
       "\n",
       "    .dataframe tbody tr th {\n",
       "        vertical-align: top;\n",
       "    }\n",
       "\n",
       "    .dataframe thead th {\n",
       "        text-align: right;\n",
       "    }\n",
       "</style>\n",
       "<table border=\"1\" class=\"dataframe\">\n",
       "  <thead>\n",
       "    <tr style=\"text-align: right;\">\n",
       "      <th></th>\n",
       "      <th>Unnamed: 0</th>\n",
       "      <th>frame</th>\n",
       "      <th>tracker</th>\n",
       "      <th>left</th>\n",
       "      <th>top</th>\n",
       "      <th>width</th>\n",
       "      <th>height</th>\n",
       "    </tr>\n",
       "  </thead>\n",
       "  <tbody>\n",
       "    <tr>\n",
       "      <th>0</th>\n",
       "      <td>0</td>\n",
       "      <td>10</td>\n",
       "      <td>0</td>\n",
       "      <td>108.000000</td>\n",
       "      <td>58.000000</td>\n",
       "      <td>99.000000</td>\n",
       "      <td>119.000000</td>\n",
       "    </tr>\n",
       "    <tr>\n",
       "      <th>1</th>\n",
       "      <td>1</td>\n",
       "      <td>11</td>\n",
       "      <td>0</td>\n",
       "      <td>107.899350</td>\n",
       "      <td>57.582835</td>\n",
       "      <td>99.179957</td>\n",
       "      <td>119.216683</td>\n",
       "    </tr>\n",
       "    <tr>\n",
       "      <th>2</th>\n",
       "      <td>2</td>\n",
       "      <td>12</td>\n",
       "      <td>0</td>\n",
       "      <td>107.583443</td>\n",
       "      <td>57.037336</td>\n",
       "      <td>99.494549</td>\n",
       "      <td>119.595477</td>\n",
       "    </tr>\n",
       "    <tr>\n",
       "      <th>3</th>\n",
       "      <td>3</td>\n",
       "      <td>13</td>\n",
       "      <td>0</td>\n",
       "      <td>107.499589</td>\n",
       "      <td>56.945497</td>\n",
       "      <td>99.545947</td>\n",
       "      <td>119.657365</td>\n",
       "    </tr>\n",
       "    <tr>\n",
       "      <th>4</th>\n",
       "      <td>4</td>\n",
       "      <td>14</td>\n",
       "      <td>0</td>\n",
       "      <td>107.297973</td>\n",
       "      <td>56.815513</td>\n",
       "      <td>99.679828</td>\n",
       "      <td>119.818568</td>\n",
       "    </tr>\n",
       "    <tr>\n",
       "      <th>...</th>\n",
       "      <td>...</td>\n",
       "      <td>...</td>\n",
       "      <td>...</td>\n",
       "      <td>...</td>\n",
       "      <td>...</td>\n",
       "      <td>...</td>\n",
       "      <td>...</td>\n",
       "    </tr>\n",
       "    <tr>\n",
       "      <th>2881</th>\n",
       "      <td>2881</td>\n",
       "      <td>4818</td>\n",
       "      <td>53</td>\n",
       "      <td>265.833177</td>\n",
       "      <td>52.515181</td>\n",
       "      <td>74.751430</td>\n",
       "      <td>93.189287</td>\n",
       "    </tr>\n",
       "    <tr>\n",
       "      <th>2882</th>\n",
       "      <td>2882</td>\n",
       "      <td>4819</td>\n",
       "      <td>53</td>\n",
       "      <td>269.753925</td>\n",
       "      <td>51.270163</td>\n",
       "      <td>75.104538</td>\n",
       "      <td>93.630672</td>\n",
       "    </tr>\n",
       "    <tr>\n",
       "      <th>2883</th>\n",
       "      <td>2883</td>\n",
       "      <td>4820</td>\n",
       "      <td>53</td>\n",
       "      <td>272.199842</td>\n",
       "      <td>47.525492</td>\n",
       "      <td>75.153007</td>\n",
       "      <td>93.691259</td>\n",
       "    </tr>\n",
       "    <tr>\n",
       "      <th>2884</th>\n",
       "      <td>2884</td>\n",
       "      <td>4821</td>\n",
       "      <td>53</td>\n",
       "      <td>276.426418</td>\n",
       "      <td>47.086039</td>\n",
       "      <td>74.939077</td>\n",
       "      <td>93.423846</td>\n",
       "    </tr>\n",
       "    <tr>\n",
       "      <th>2885</th>\n",
       "      <td>2885</td>\n",
       "      <td>4822</td>\n",
       "      <td>53</td>\n",
       "      <td>274.081028</td>\n",
       "      <td>48.006758</td>\n",
       "      <td>74.700585</td>\n",
       "      <td>93.125731</td>\n",
       "    </tr>\n",
       "  </tbody>\n",
       "</table>\n",
       "<p>2886 rows × 7 columns</p>\n",
       "</div>"
      ],
      "text/plain": [
       "      Unnamed: 0  frame  tracker        left        top      width      height\n",
       "0              0     10        0  108.000000  58.000000  99.000000  119.000000\n",
       "1              1     11        0  107.899350  57.582835  99.179957  119.216683\n",
       "2              2     12        0  107.583443  57.037336  99.494549  119.595477\n",
       "3              3     13        0  107.499589  56.945497  99.545947  119.657365\n",
       "4              4     14        0  107.297973  56.815513  99.679828  119.818568\n",
       "...          ...    ...      ...         ...        ...        ...         ...\n",
       "2881        2881   4818       53  265.833177  52.515181  74.751430   93.189287\n",
       "2882        2882   4819       53  269.753925  51.270163  75.104538   93.630672\n",
       "2883        2883   4820       53  272.199842  47.525492  75.153007   93.691259\n",
       "2884        2884   4821       53  276.426418  47.086039  74.939077   93.423846\n",
       "2885        2885   4822       53  274.081028  48.006758  74.700585   93.125731\n",
       "\n",
       "[2886 rows x 7 columns]"
      ]
     },
     "execution_count": 8,
     "metadata": {},
     "output_type": "execute_result"
    }
   ],
   "source": [
    "df"
   ]
  },
  {
   "cell_type": "code",
   "execution_count": 9,
   "metadata": {},
   "outputs": [],
   "source": [
    "sections = df.apply(lambda x: extract_image(x['frame'],x['left'],x['top'],x['width'],x['height']),axis=1)"
   ]
  },
  {
   "cell_type": "code",
   "execution_count": 10,
   "metadata": {},
   "outputs": [],
   "source": [
    "sections = sections.apply(lambda x:  cv2.resize(x, dsize=(224, 224), interpolation=cv2.INTER_CUBIC))"
   ]
  },
  {
   "cell_type": "code",
   "execution_count": 11,
   "metadata": {},
   "outputs": [],
   "source": [
    "sections = sections.apply(lambda x:  x.reshape(1,224,224,3))"
   ]
  },
  {
   "cell_type": "code",
   "execution_count": 12,
   "metadata": {},
   "outputs": [],
   "source": [
    "sections = np.concatenate(sections.values)"
   ]
  },
  {
   "cell_type": "code",
   "execution_count": 13,
   "metadata": {},
   "outputs": [
    {
     "data": {
      "text/plain": [
       "(2886, 224, 224, 3)"
      ]
     },
     "execution_count": 13,
     "metadata": {},
     "output_type": "execute_result"
    }
   ],
   "source": [
    "sections.shape"
   ]
  },
  {
   "cell_type": "code",
   "execution_count": 14,
   "metadata": {},
   "outputs": [
    {
     "name": "stdout",
     "output_type": "stream",
     "text": [
      "(4096,)\n",
      "[0.        0.        0.        ... 0.        0.        1.9274929]\n"
     ]
    }
   ],
   "source": [
    "model = Model(inputs=model_vgg16_conv.input,\n",
    "          outputs=model_vgg16_conv.get_layer('fc2').output)\n",
    "\n",
    "\n",
    "# preprocess your image to be able to enter the neural network\n",
    "inputs = preprocess_input(sections[:,:,:,:])\n",
    "#predict image features\n",
    "images_features = model.predict(inputs)\n",
    "vector = images_features[0]\n",
    "print(vector.shape)\n",
    "# (4096,)\n",
    "print(vector)"
   ]
  },
  {
   "cell_type": "code",
   "execution_count": 33,
   "metadata": {},
   "outputs": [
    {
     "data": {
      "text/plain": [
       "PCA(n_components=100)"
      ]
     },
     "execution_count": 33,
     "metadata": {},
     "output_type": "execute_result"
    }
   ],
   "source": [
    "pca = PCA(n_components = 100 )\n",
    "pca.fit(images_features.T)#[0].reshape(1, -1))"
   ]
  },
  {
   "cell_type": "code",
   "execution_count": 34,
   "metadata": {},
   "outputs": [
    {
     "name": "stdout",
     "output_type": "stream",
     "text": [
      "(100, 2886)\n"
     ]
    }
   ],
   "source": [
    "print(pca.components_.shape)"
   ]
  },
  {
   "cell_type": "code",
   "execution_count": 35,
   "metadata": {},
   "outputs": [
    {
     "data": {
      "text/plain": [
       "array([[ 0.0217439 ,  0.02106977,  0.02155024, ...,  0.0070121 ,\n",
       "         0.00665088,  0.0069429 ],\n",
       "       [ 0.00749937,  0.00857991,  0.00848245, ...,  0.00845806,\n",
       "         0.00769453,  0.00815036],\n",
       "       [ 0.0151543 ,  0.01672979,  0.01749482, ...,  0.01569151,\n",
       "         0.01513767,  0.01532258],\n",
       "       ...,\n",
       "       [-0.00116726, -0.01071787, -0.01490478, ...,  0.04736587,\n",
       "         0.04700184,  0.05160125],\n",
       "       [-0.0331476 , -0.03069482, -0.0280892 , ...,  0.00673636,\n",
       "         0.00315669,  0.0061894 ],\n",
       "       [ 0.00634898,  0.01231085,  0.01891335, ...,  0.06425433,\n",
       "         0.06319207,  0.05827002]], dtype=float32)"
      ]
     },
     "execution_count": 35,
     "metadata": {},
     "output_type": "execute_result"
    }
   ],
   "source": [
    "pca.components_"
   ]
  },
  {
   "cell_type": "code",
   "execution_count": 36,
   "metadata": {},
   "outputs": [],
   "source": [
    "from sklearn.cluster import KMeans"
   ]
  },
  {
   "cell_type": "code",
   "execution_count": 40,
   "metadata": {},
   "outputs": [],
   "source": [
    "kmeans = KMeans(n_clusters=2, random_state=0).fit(pca.components_.T)\n"
   ]
  },
  {
   "cell_type": "code",
   "execution_count": 44,
   "metadata": {},
   "outputs": [
    {
     "data": {
      "text/plain": [
       "array([1, 1, 1, ..., 1, 1, 1], dtype=int32)"
      ]
     },
     "execution_count": 44,
     "metadata": {},
     "output_type": "execute_result"
    }
   ],
   "source": [
    "kmeans.labels_"
   ]
  },
  {
   "cell_type": "code",
   "execution_count": null,
   "metadata": {},
   "outputs": [],
   "source": []
  }
 ],
 "metadata": {
  "kernelspec": {
   "display_name": "Python 3",
   "language": "python",
   "name": "python3"
  },
  "language_info": {
   "codemirror_mode": {
    "name": "ipython",
    "version": 3
   },
   "file_extension": ".py",
   "mimetype": "text/x-python",
   "name": "python",
   "nbconvert_exporter": "python",
   "pygments_lexer": "ipython3",
   "version": "3.7.6"
  }
 },
 "nbformat": 4,
 "nbformat_minor": 4
}
